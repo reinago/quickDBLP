{
 "cells": [
  {
   "cell_type": "code",
   "execution_count": null,
   "id": "51102dd0",
   "metadata": {},
   "outputs": [],
   "source": [
    "import pandas as pd\n",
    "\n",
    "authors_seq = pd.read_csv('seq_snap/dblp_authors.csv', sep='\\t')\n",
    "authors_par = pd.read_csv('par_snap/dblp_authors.csv', sep='\\t')"
   ]
  },
  {
   "cell_type": "code",
   "execution_count": null,
   "id": "c3ca8c46",
   "metadata": {},
   "outputs": [],
   "source": [
    "s = authors_seq[\"Name\"]\n",
    "p = authors_par[\"Name\"]\n",
    "\n",
    "s = sorted(s)\n",
    "p = sorted(p)\n",
    "\n",
    "# len(s), len(p)\n",
    "# check whether the two lists are equal\n",
    "# len(set(s) - set(p)), len(set(p) - set(s))\n",
    "print(set(s) - set(p))\n",
    "print(set(p) - set(s))"
   ]
  },
  {
   "cell_type": "code",
   "execution_count": null,
   "id": "b0920493",
   "metadata": {},
   "outputs": [],
   "source": [
    "s = authors_seq[\"DBLP\"]\n",
    "p = authors_par[\"DBLP\"]\n",
    "\n",
    "s = sorted(s)\n",
    "p = sorted(p)\n",
    "\n",
    "# len(s), len(p)\n",
    "# check whether the two lists are equal\n",
    "# len(set(s) - set(p)), len(set(p) - set(s))\n",
    "print(set(s) - set(p))\n",
    "print(set(p) - set(s))"
   ]
  },
  {
   "cell_type": "code",
   "execution_count": null,
   "id": "c08ffb0f",
   "metadata": {},
   "outputs": [],
   "source": [
    "papers_seq = pd.read_csv('seq_snap/dblp_papers.csv', sep='\\t')\n",
    "papers_par = pd.read_csv('par_snap/dblp_papers.csv', sep='\\t')"
   ]
  },
  {
   "cell_type": "code",
   "execution_count": null,
   "id": "fdbb114d",
   "metadata": {},
   "outputs": [],
   "source": [
    "s = papers_seq[\"Title\"]\n",
    "p = papers_par[\"Title\"]\n",
    "\n",
    "len(s) == len(p)\n",
    "\n",
    "# s = sorted(s)\n",
    "# p = sorted(p)\n",
    "\n",
    "# check whether the two lists are equal\n",
    "# len(set(s) - set(p)), len(set(p) - set(s))\n",
    "#print(set(s) - set(p))\n",
    "#print(set(p) - set(s))"
   ]
  }
 ],
 "metadata": {
  "kernelspec": {
   "display_name": "Python 3",
   "language": "python",
   "name": "python3"
  },
  "language_info": {
   "codemirror_mode": {
    "name": "ipython",
    "version": 3
   },
   "file_extension": ".py",
   "mimetype": "text/x-python",
   "name": "python",
   "nbconvert_exporter": "python",
   "pygments_lexer": "ipython3",
   "version": "3.12.0"
  }
 },
 "nbformat": 4,
 "nbformat_minor": 5
}
