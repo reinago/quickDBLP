{
 "cells": [
  {
   "cell_type": "code",
   "execution_count": null,
   "id": "06ad7b18",
   "metadata": {},
   "outputs": [],
   "source": [
    "import pandas as pd\n",
    "\n",
    "authors = pd.read_csv('snapshot/dblp_authors.csv', sep='\\t')\n",
    "papers = pd.read_csv('snapshot/dblp_papers.csv', sep='\\t')\n",
    "papers_authors = pd.read_csv('snapshot/dblp_papers_authors.csv', sep='\\t')"
   ]
  },
  {
   "cell_type": "code",
   "execution_count": null,
   "id": "18be5cfd",
   "metadata": {},
   "outputs": [],
   "source": [
    "# filter out papers that have \"conf\" in ther DBLP column\n",
    "# papers_filtered = papers[~papers['DBLP'].str.contains('/conf/')]\n",
    "authors[authors[\"Name\"].str.contains(\"Steffen Koch\")]"
   ]
  },
  {
   "cell_type": "code",
   "execution_count": null,
   "id": "2573f77d",
   "metadata": {},
   "outputs": [],
   "source": [
    "print(authors.loc[0])\n",
    "print(papers.loc[0])\n",
    "print(papers_authors.loc[0])"
   ]
  },
  {
   "cell_type": "code",
   "execution_count": null,
   "id": "4b6fe0d6",
   "metadata": {},
   "outputs": [],
   "source": [
    "from datetime import datetime\n",
    "from itables import init_notebook_mode, show\n",
    "import ipywidgets as widgets\n",
    "from IPython.display import display\n",
    "\n",
    "# init_notebook_mode(all_interactive=True)\n",
    "# pd.set_option('display.width', 1000)\n",
    "# pd.set_option('display.max_rows', 1000)\n",
    "\n",
    "search = \"Guido Reina\"\n",
    "cutoff = 5\n",
    "explain = True\n",
    "\n",
    "# Create UI elements\n",
    "search_input = widgets.Text(value=search, description='Search:')\n",
    "cutoff_slider = widgets.IntSlider(value=cutoff, min=1, max=10, step=1, description='Cutoff:')\n",
    "explain_toggle = widgets.Checkbox(value=explain, description='Explain')\n",
    "search_button = widgets.Button(description=\"Go\", )\n",
    "output = widgets.Output()\n",
    "\n",
    "# Display UI elements\n",
    "display(search_input, cutoff_slider, explain_toggle, search_button, output)\n",
    "\n",
    "# Define the button click event\n",
    "def on_search_button_clicked(b):\n",
    "# Update variables based on UI input\n",
    "    search = search_input.value\n",
    "    cutoff = cutoff_slider.value\n",
    "    explain = explain_toggle.value\n",
    "\n",
    "    with output:\n",
    "        output.clear_output()\n",
    "        cutoffYear = datetime.now().year - cutoff\n",
    "        hits = authors[authors[\"Name\"].str.contains(search)]\n",
    "        if hits.empty:\n",
    "            print(f\"No authors found for {search}\")\n",
    "        else:\n",
    "            authors_ids = []\n",
    "            for h in hits.itertuples():\n",
    "                print(f\"Author: {h.Name}, NumericID: {h.NumericID}, ORCID: {h.ORCID}, DBLP: {h.DBLP}\")\n",
    "                id = h.NumericID\n",
    "                authors_ids.append(id)\n",
    "                # Get all papers for these authors\n",
    "            papers_ids = papers_authors[papers_authors[\"AuthorID\"].isin(authors_ids)][\"PaperID\"]\n",
    "            # print(papers_ids)\n",
    "            papers_data = papers[papers[\"NumericID\"].isin(papers_ids) & (papers[\"Year\"] >= cutoffYear)]\n",
    "            # print(\"papers_data\")\n",
    "            # print(papers_data)\n",
    "            # get all co-authors for these papers\n",
    "            filtered_papers_ids = papers_data[\"NumericID\"]\n",
    "            co_authors = papers_authors[papers_authors[\"PaperID\"].isin(filtered_papers_ids)]\n",
    "            co_authors = co_authors[co_authors[\"AuthorID\"] != id]\n",
    "            co_authors = co_authors[\"AuthorID\"].unique()\n",
    "            # print(co_authors)\n",
    "            # lookup co_authors names\n",
    "            co_authors_data = authors[authors[\"NumericID\"].isin(co_authors)]\n",
    "            # print(\"co_authors_data\")\n",
    "            # join the coauthors with the information from the papers table\n",
    "            if (explain):\n",
    "                merge = pd.merge(co_authors_data, papers_authors, left_on=\"NumericID\", right_on=\"AuthorID\")\n",
    "                merge = pd.merge(merge, papers_data, left_on=\"PaperID\", right_on=\"NumericID\")\n",
    "                # print(merge.columns.tolist())\n",
    "                merge = merge[['DBLP_x', 'Name', 'ORCID', 'DBLP_y', 'Title', 'Year', 'PaperID', 'AuthorID', 'NumericID_x', 'NumericID_y']]\n",
    "                merge[\"DBLP_x\"] = ['<a href=\"{}\">{}</a>'.format(d, d) for d in merge[\"DBLP_x\"]]\n",
    "                merge[\"DBLP_y\"] = ['<a href=\"{}\">{}</a>'.format(d, d) for d in merge[\"DBLP_y\"]]\n",
    "                merge[\"ORCID\"] = ['<a href=\"{}\">{}</a>'.format(d, d) for d in merge[\"ORCID\"]]\n",
    "                merge = merge.rename(columns={\"DBLP_x\": \"DBLP Author\", \"DBLP_y\": \"DBLP Paper\"})\n",
    "                show(merge)\n",
    "            else:\n",
    "                cod = co_authors_data.copy()\n",
    "                cod[\"DBLP\"] = ['<a href=\"{}\">{}</a>'.format(d, d) for d in cod[\"DBLP\"]]\n",
    "                cod[\"ORCID\"] = ['<a href=\"{}\">{}</a>'.format(d, d) for d in cod[\"ORCID\"]]\n",
    "                show(cod)\n",
    "\n",
    "search_button.on_click(on_search_button_clicked)\n"
   ]
  }
 ],
 "metadata": {
  "kernelspec": {
   "display_name": "Python 3",
   "language": "python",
   "name": "python3"
  },
  "language_info": {
   "codemirror_mode": {
    "name": "ipython",
    "version": 3
   },
   "file_extension": ".py",
   "mimetype": "text/x-python",
   "name": "python",
   "nbconvert_exporter": "python",
   "pygments_lexer": "ipython3",
   "version": "3.13.2"
  }
 },
 "nbformat": 4,
 "nbformat_minor": 5
}
