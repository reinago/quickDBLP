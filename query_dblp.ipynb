{
 "cells": [
  {
   "cell_type": "markdown",
   "id": "025b7d19",
   "metadata": {},
   "source": [
    "## Load the local DBLP cache\n",
    "from the `snapshot` folder!"
   ]
  },
  {
   "cell_type": "code",
   "execution_count": null,
   "id": "06ad7b18",
   "metadata": {},
   "outputs": [],
   "source": [
    "import query_dblp\n",
    "\n",
    "query_dblp.prepare_data(\"snapshot\")"
   ]
  },
  {
   "cell_type": "markdown",
   "id": "f68080a6",
   "metadata": {},
   "source": [
    "### Guess Authors from Webpage and/or search Co-Authors directly\n",
    "\n",
    "grab the HTML source of the submissions system and give it a go"
   ]
  },
  {
   "cell_type": "code",
   "execution_count": null,
   "id": "4b6fe0d6",
   "metadata": {},
   "outputs": [],
   "source": [
    "query_dblp.show_search_UI()"
   ]
  }
 ],
 "metadata": {
  "kernelspec": {
   "display_name": "Python 3",
   "language": "python",
   "name": "python3"
  },
  "language_info": {
   "codemirror_mode": {
    "name": "ipython",
    "version": 3
   },
   "file_extension": ".py",
   "mimetype": "text/x-python",
   "name": "python",
   "nbconvert_exporter": "python",
   "pygments_lexer": "ipython3",
   "version": "3.12.0"
  }
 },
 "nbformat": 4,
 "nbformat_minor": 5
}
